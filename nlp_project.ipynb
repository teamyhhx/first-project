{
 "cells": [
  {
   "cell_type": "code",
   "execution_count": 275,
   "metadata": {},
   "outputs": [],
   "source": [
    "import warnings\n",
    "warnings.filterwarnings(\"ignore\")\n",
    "import pandas as pd\n",
    "import seaborn as sns\n",
    "import matplotlib.pyplot as plt\n",
    "import numpy as np\n",
    "import csv\n",
    "\n",
    "train = pd.read_csv(\"./data/train.csv\", sep=\"###__###\",header = None,encoding = \"utf-8\")\n",
    "test = pd.read_csv(\"./data/test.csv\", sep=\"###__###\",header = None,encoding = \"utf-8\")"
   ]
  },
  {
   "cell_type": "code",
   "execution_count": 276,
   "metadata": {},
   "outputs": [
    {
     "data": {
      "text/html": [
       "<div>\n",
       "<style scoped>\n",
       "    .dataframe tbody tr th:only-of-type {\n",
       "        vertical-align: middle;\n",
       "    }\n",
       "\n",
       "    .dataframe tbody tr th {\n",
       "        vertical-align: top;\n",
       "    }\n",
       "\n",
       "    .dataframe thead th {\n",
       "        text-align: right;\n",
       "    }\n",
       "</style>\n",
       "<table border=\"1\" class=\"dataframe\">\n",
       "  <thead>\n",
       "    <tr style=\"text-align: right;\">\n",
       "      <th></th>\n",
       "      <th>ID</th>\n",
       "      <th>Age</th>\n",
       "      <th>Gender</th>\n",
       "      <th>Education</th>\n",
       "      <th>Query_List</th>\n",
       "    </tr>\n",
       "  </thead>\n",
       "  <tbody>\n",
       "    <tr>\n",
       "      <th>0</th>\n",
       "      <td>22DD920316420BE2DF8D6EE651BA174B</td>\n",
       "      <td>1</td>\n",
       "      <td>1</td>\n",
       "      <td>4</td>\n",
       "      <td>柔和双沟\\t女生\\t中财网首页 财经\\thttp://pan.baidu.com/s/1pl...</td>\n",
       "    </tr>\n",
       "    <tr>\n",
       "      <th>1</th>\n",
       "      <td>43CC3AF5A8D6430A3B572337A889AFE4</td>\n",
       "      <td>2</td>\n",
       "      <td>1</td>\n",
       "      <td>3</td>\n",
       "      <td>广州厨宝烤箱\\t世情薄,人情恶,雨送黄昏花易落,晓风干,泪痕\\t厦门酒店用品批发市场\\t我只...</td>\n",
       "    </tr>\n",
       "    <tr>\n",
       "      <th>2</th>\n",
       "      <td>E97654BFF5570E2CCD433EA6128EAC19</td>\n",
       "      <td>4</td>\n",
       "      <td>1</td>\n",
       "      <td>0</td>\n",
       "      <td>钻石之泪耳机\\t盘锦到沈阳\\t旅顺公交\\t辽宁阜新车牌\\tbaidu\\tk715\\tk716...</td>\n",
       "    </tr>\n",
       "    <tr>\n",
       "      <th>3</th>\n",
       "      <td>6931EFC26D229CCFCEA125D3F3C21E57</td>\n",
       "      <td>4</td>\n",
       "      <td>2</td>\n",
       "      <td>3</td>\n",
       "      <td>最受欢迎狗狗排行榜\\t舶怎么读\\t场景描 写范例\\t三维绘图软件\\t枣和酸奶能一起吃吗\\t好...</td>\n",
       "    </tr>\n",
       "    <tr>\n",
       "      <th>4</th>\n",
       "      <td>E780470C3BB0D340334BD08CDCC3C71A</td>\n",
       "      <td>2</td>\n",
       "      <td>2</td>\n",
       "      <td>4</td>\n",
       "      <td>干槽症能自愈吗\\t太太万岁叶舒心去没去美国\\t干槽症\\t右眼皮下面一直跳是怎么回事\\t麦当劳...</td>\n",
       "    </tr>\n",
       "  </tbody>\n",
       "</table>\n",
       "</div>"
      ],
      "text/plain": [
       "                                 ID  Age  Gender  Education  \\\n",
       "0  22DD920316420BE2DF8D6EE651BA174B    1       1          4   \n",
       "1  43CC3AF5A8D6430A3B572337A889AFE4    2       1          3   \n",
       "2  E97654BFF5570E2CCD433EA6128EAC19    4       1          0   \n",
       "3  6931EFC26D229CCFCEA125D3F3C21E57    4       2          3   \n",
       "4  E780470C3BB0D340334BD08CDCC3C71A    2       2          4   \n",
       "\n",
       "                                          Query_List  \n",
       "0  柔和双沟\\t女生\\t中财网首页 财经\\thttp://pan.baidu.com/s/1pl...  \n",
       "1  广州厨宝烤箱\\t世情薄,人情恶,雨送黄昏花易落,晓风干,泪痕\\t厦门酒店用品批发市场\\t我只...  \n",
       "2  钻石之泪耳机\\t盘锦到沈阳\\t旅顺公交\\t辽宁阜新车牌\\tbaidu\\tk715\\tk716...  \n",
       "3  最受欢迎狗狗排行榜\\t舶怎么读\\t场景描 写范例\\t三维绘图软件\\t枣和酸奶能一起吃吗\\t好...  \n",
       "4  干槽症能自愈吗\\t太太万岁叶舒心去没去美国\\t干槽症\\t右眼皮下面一直跳是怎么回事\\t麦当劳...  "
      ]
     },
     "execution_count": 276,
     "metadata": {},
     "output_type": "execute_result"
    }
   ],
   "source": [
    "train.columns = ['ID', 'Age', 'Gender', 'Education', 'Query_List']\n",
    "train.head()"
   ]
  },
  {
   "cell_type": "code",
   "execution_count": 269,
   "metadata": {},
   "outputs": [
    {
     "data": {
      "text/plain": [
       "0    0\n",
       "1    0\n",
       "2    0\n",
       "3    0\n",
       "4    0\n",
       "dtype: int64"
      ]
     },
     "execution_count": 269,
     "metadata": {},
     "output_type": "execute_result"
    }
   ],
   "source": [
    "train.isnull().sum()"
   ]
  },
  {
   "cell_type": "code",
   "execution_count": 271,
   "metadata": {},
   "outputs": [
    {
     "name": "stdout",
     "output_type": "stream",
     "text": [
      "<class 'pandas.core.frame.DataFrame'>\n",
      "RangeIndex: 100000 entries, 0 to 99999\n",
      "Data columns (total 5 columns):\n",
      " #   Column  Non-Null Count   Dtype \n",
      "---  ------  --------------   ----- \n",
      " 0   0       100000 non-null  object\n",
      " 1   1       100000 non-null  int64 \n",
      " 2   2       100000 non-null  int64 \n",
      " 3   3       100000 non-null  int64 \n",
      " 4   4       100000 non-null  object\n",
      "dtypes: int64(3), object(2)\n",
      "memory usage: 3.8+ MB\n"
     ]
    }
   ],
   "source": [
    "train.info()"
   ]
  },
  {
   "cell_type": "code",
   "execution_count": 272,
   "metadata": {},
   "outputs": [
    {
     "data": {
      "text/html": [
       "<div>\n",
       "<style scoped>\n",
       "    .dataframe tbody tr th:only-of-type {\n",
       "        vertical-align: middle;\n",
       "    }\n",
       "\n",
       "    .dataframe tbody tr th {\n",
       "        vertical-align: top;\n",
       "    }\n",
       "\n",
       "    .dataframe thead th {\n",
       "        text-align: right;\n",
       "    }\n",
       "</style>\n",
       "<table border=\"1\" class=\"dataframe\">\n",
       "  <thead>\n",
       "    <tr style=\"text-align: right;\">\n",
       "      <th></th>\n",
       "      <th>1</th>\n",
       "      <th>2</th>\n",
       "      <th>3</th>\n",
       "    </tr>\n",
       "  </thead>\n",
       "  <tbody>\n",
       "    <tr>\n",
       "      <th>count</th>\n",
       "      <td>100000.000000</td>\n",
       "      <td>100000.000000</td>\n",
       "      <td>100000.000000</td>\n",
       "    </tr>\n",
       "    <tr>\n",
       "      <th>mean</th>\n",
       "      <td>2.082310</td>\n",
       "      <td>1.387140</td>\n",
       "      <td>3.903330</td>\n",
       "    </tr>\n",
       "    <tr>\n",
       "      <th>std</th>\n",
       "      <td>1.184276</td>\n",
       "      <td>0.529495</td>\n",
       "      <td>1.522205</td>\n",
       "    </tr>\n",
       "    <tr>\n",
       "      <th>min</th>\n",
       "      <td>0.000000</td>\n",
       "      <td>0.000000</td>\n",
       "      <td>0.000000</td>\n",
       "    </tr>\n",
       "    <tr>\n",
       "      <th>25%</th>\n",
       "      <td>1.000000</td>\n",
       "      <td>1.000000</td>\n",
       "      <td>3.000000</td>\n",
       "    </tr>\n",
       "    <tr>\n",
       "      <th>50%</th>\n",
       "      <td>2.000000</td>\n",
       "      <td>1.000000</td>\n",
       "      <td>4.000000</td>\n",
       "    </tr>\n",
       "    <tr>\n",
       "      <th>75%</th>\n",
       "      <td>3.000000</td>\n",
       "      <td>2.000000</td>\n",
       "      <td>5.000000</td>\n",
       "    </tr>\n",
       "    <tr>\n",
       "      <th>max</th>\n",
       "      <td>6.000000</td>\n",
       "      <td>2.000000</td>\n",
       "      <td>6.000000</td>\n",
       "    </tr>\n",
       "  </tbody>\n",
       "</table>\n",
       "</div>"
      ],
      "text/plain": [
       "                   1              2              3\n",
       "count  100000.000000  100000.000000  100000.000000\n",
       "mean        2.082310       1.387140       3.903330\n",
       "std         1.184276       0.529495       1.522205\n",
       "min         0.000000       0.000000       0.000000\n",
       "25%         1.000000       1.000000       3.000000\n",
       "50%         2.000000       1.000000       4.000000\n",
       "75%         3.000000       2.000000       5.000000\n",
       "max         6.000000       2.000000       6.000000"
      ]
     },
     "execution_count": 272,
     "metadata": {},
     "output_type": "execute_result"
    }
   ],
   "source": [
    "train.describe()"
   ]
  },
  {
   "cell_type": "code",
   "execution_count": 33,
   "metadata": {},
   "outputs": [
    {
     "data": {
      "text/plain": [
       "(100000, 5)"
      ]
     },
     "execution_count": 33,
     "metadata": {},
     "output_type": "execute_result"
    }
   ],
   "source": [
    "train.shape"
   ]
  },
  {
   "cell_type": "code",
   "execution_count": 34,
   "metadata": {},
   "outputs": [
    {
     "data": {
      "text/html": [
       "<div>\n",
       "<style scoped>\n",
       "    .dataframe tbody tr th:only-of-type {\n",
       "        vertical-align: middle;\n",
       "    }\n",
       "\n",
       "    .dataframe tbody tr th {\n",
       "        vertical-align: top;\n",
       "    }\n",
       "\n",
       "    .dataframe thead th {\n",
       "        text-align: right;\n",
       "    }\n",
       "</style>\n",
       "<table border=\"1\" class=\"dataframe\">\n",
       "  <thead>\n",
       "    <tr style=\"text-align: right;\">\n",
       "      <th></th>\n",
       "      <th>ID</th>\n",
       "      <th>Age</th>\n",
       "      <th>Gender</th>\n",
       "      <th>Education</th>\n",
       "      <th>Query_List</th>\n",
       "      <th>content_lens</th>\n",
       "      <th>content_num</th>\n",
       "      <th>max_len</th>\n",
       "      <th>null_text</th>\n",
       "      <th>english_text</th>\n",
       "      <th>mean_length</th>\n",
       "      <th>english_precent</th>\n",
       "      <th>null_precent</th>\n",
       "    </tr>\n",
       "  </thead>\n",
       "  <tbody>\n",
       "    <tr>\n",
       "      <th>99995</th>\n",
       "      <td>E797FFCDCAF3899AB4D17B61170D8BFF</td>\n",
       "      <td>1</td>\n",
       "      <td>1</td>\n",
       "      <td>5</td>\n",
       "      <td>梦三生\\t逆行天后漫画结局\\t英雄联盟角色介绍大全\\t韩剧网最新韩国电视剧\\t119宣传语是...</td>\n",
       "      <td>805</td>\n",
       "      <td>94</td>\n",
       "      <td>30</td>\n",
       "      <td>0</td>\n",
       "      <td>83</td>\n",
       "      <td>8.563830</td>\n",
       "      <td>0.882979</td>\n",
       "      <td>0.000000</td>\n",
       "    </tr>\n",
       "    <tr>\n",
       "      <th>99996</th>\n",
       "      <td>E06375F7D092ABDE78C2D79E4725D6B0</td>\n",
       "      <td>1</td>\n",
       "      <td>1</td>\n",
       "      <td>5</td>\n",
       "      <td>中国军队配枪\\t女生\\t央视版权问题\\t重庆\\t一次性手术刀\\t精神枷锁\\t人民检察官\\t舆...</td>\n",
       "      <td>1748</td>\n",
       "      <td>300</td>\n",
       "      <td>15</td>\n",
       "      <td>1</td>\n",
       "      <td>284</td>\n",
       "      <td>5.826667</td>\n",
       "      <td>0.946667</td>\n",
       "      <td>0.003333</td>\n",
       "    </tr>\n",
       "    <tr>\n",
       "      <th>99997</th>\n",
       "      <td>D55119CB0B9366B20974522B58C00912</td>\n",
       "      <td>2</td>\n",
       "      <td>2</td>\n",
       "      <td>5</td>\n",
       "      <td>英文翻译\\t幼儿园面试讲课\\t学前教育书第二版\\tshock to\\t幼儿园教师资格证面试讲...</td>\n",
       "      <td>858</td>\n",
       "      <td>89</td>\n",
       "      <td>28</td>\n",
       "      <td>8</td>\n",
       "      <td>81</td>\n",
       "      <td>9.640449</td>\n",
       "      <td>0.910112</td>\n",
       "      <td>0.089888</td>\n",
       "    </tr>\n",
       "    <tr>\n",
       "      <th>99998</th>\n",
       "      <td>EB4DBBD602C6459A19A77F09035E170C</td>\n",
       "      <td>3</td>\n",
       "      <td>2</td>\n",
       "      <td>3</td>\n",
       "      <td>哈尔滨祖研中医院地址\\t指甲盖侧面的肉怎么是白色\\t补骨质有副作用吗\\t哈尔滨去呼兰\\t黑龙...</td>\n",
       "      <td>1058</td>\n",
       "      <td>111</td>\n",
       "      <td>22</td>\n",
       "      <td>1</td>\n",
       "      <td>105</td>\n",
       "      <td>9.531532</td>\n",
       "      <td>0.945946</td>\n",
       "      <td>0.009009</td>\n",
       "    </tr>\n",
       "    <tr>\n",
       "      <th>99999</th>\n",
       "      <td>61CF81DB79423CB89E5DAA752BC4D9DD</td>\n",
       "      <td>1</td>\n",
       "      <td>2</td>\n",
       "      <td>5</td>\n",
       "      <td>陈翔毛晓彤分手\\t青春偶像剧校园电影\\t九尾狐家族\\t王俊凯小说\\t女娲的成长日记女娲变身\\...</td>\n",
       "      <td>2251</td>\n",
       "      <td>269</td>\n",
       "      <td>17</td>\n",
       "      <td>2</td>\n",
       "      <td>255</td>\n",
       "      <td>8.368030</td>\n",
       "      <td>0.947955</td>\n",
       "      <td>0.007435</td>\n",
       "    </tr>\n",
       "  </tbody>\n",
       "</table>\n",
       "</div>"
      ],
      "text/plain": [
       "                                     ID  Age  Gender  Education  \\\n",
       "99995  E797FFCDCAF3899AB4D17B61170D8BFF    1       1          5   \n",
       "99996  E06375F7D092ABDE78C2D79E4725D6B0    1       1          5   \n",
       "99997  D55119CB0B9366B20974522B58C00912    2       2          5   \n",
       "99998  EB4DBBD602C6459A19A77F09035E170C    3       2          3   \n",
       "99999  61CF81DB79423CB89E5DAA752BC4D9DD    1       2          5   \n",
       "\n",
       "                                              Query_List  content_lens  \\\n",
       "99995  梦三生\\t逆行天后漫画结局\\t英雄联盟角色介绍大全\\t韩剧网最新韩国电视剧\\t119宣传语是...           805   \n",
       "99996  中国军队配枪\\t女生\\t央视版权问题\\t重庆\\t一次性手术刀\\t精神枷锁\\t人民检察官\\t舆...          1748   \n",
       "99997  英文翻译\\t幼儿园面试讲课\\t学前教育书第二版\\tshock to\\t幼儿园教师资格证面试讲...           858   \n",
       "99998  哈尔滨祖研中医院地址\\t指甲盖侧面的肉怎么是白色\\t补骨质有副作用吗\\t哈尔滨去呼兰\\t黑龙...          1058   \n",
       "99999  陈翔毛晓彤分手\\t青春偶像剧校园电影\\t九尾狐家族\\t王俊凯小说\\t女娲的成长日记女娲变身\\...          2251   \n",
       "\n",
       "       content_num  max_len  null_text  english_text  mean_length  \\\n",
       "99995           94       30          0            83     8.563830   \n",
       "99996          300       15          1           284     5.826667   \n",
       "99997           89       28          8            81     9.640449   \n",
       "99998          111       22          1           105     9.531532   \n",
       "99999          269       17          2           255     8.368030   \n",
       "\n",
       "       english_precent  null_precent  \n",
       "99995         0.882979      0.000000  \n",
       "99996         0.946667      0.003333  \n",
       "99997         0.910112      0.089888  \n",
       "99998         0.945946      0.009009  \n",
       "99999         0.947955      0.007435  "
      ]
     },
     "execution_count": 34,
     "metadata": {},
     "output_type": "execute_result"
    }
   ],
   "source": [
    "train.loc[:,\"content_lens\"] =train.Query_List.apply(lambda x:len(x))\n",
    "train.loc[:,\"content_num\"] = train.Query_List.apply(lambda x: x.count(\"\\t\"))\n",
    "def choice_maxtext(x):\n",
    "    word_list = x.split('\\t') #用逗号转换为列表\n",
    "    word_len_list = [len(word) for word in word_list]\n",
    "    max_word_len = max(word_len_list)\n",
    "    return max_word_len\n",
    "train.loc[:,\"max_len\"] = train.Query_List.apply(lambda x: choice_maxtext(x))\n",
    "def choice_null(x):\n",
    "    word_list = x.split('\\t') #用逗号转换为列表\n",
    "    count = 0\n",
    "    for word in word_list:\n",
    "        if \" \" in word:\n",
    "            count+=1\n",
    "        else:\n",
    "            continue\n",
    "    return count\n",
    "train.loc[:,\"null_text\"] = train.Query_List.apply(lambda x: choice_null(x))\n",
    "def english_text(x):\n",
    "    word_list = x.split('\\t') #用逗号转换为列表\n",
    "    count = 0\n",
    "    for word in word_list:\n",
    "        if word.isalpha():\n",
    "            count+=1\n",
    "        else:\n",
    "            continue\n",
    "    return count\n",
    "train.loc[:,\"english_text\"] = train.Query_List.apply(lambda x: english_text(x))\n",
    "train.loc[:,\"mean_length\"] = train[\"content_lens\"]/train[\"content_num\"]\n",
    "train.loc[:,\"english_precent\"] = train[\"english_text\"]/train[\"content_num\"]\n",
    "train.loc[:,\"null_precent\"] = train[\"null_text\"]/train[\"content_num\"]\n",
    "train.tail()"
   ]
  },
  {
   "cell_type": "code",
   "execution_count": 5,
   "metadata": {},
   "outputs": [
    {
     "data": {
      "text/plain": [
       "<AxesSubplot:>"
      ]
     },
     "execution_count": 5,
     "metadata": {},
     "output_type": "execute_result"
    },
    {
     "data": {
      "image/png": "[encoded data removed]",
      "text/plain": [
       "<Figure size 432x288 with 1 Axes>"
      ]
     },
     "metadata": {
      "needs_background": "light"
     },
     "output_type": "display_data"
    }
   ],
   "source": [
    "train.Age.value_counts().plot(kind = \"bar\")"
   ]
  },
  {
   "cell_type": "code",
   "execution_count": 6,
   "metadata": {},
   "outputs": [
    {
     "data": {
      "text/plain": [
       "<AxesSubplot:ylabel='Gender'>"
      ]
     },
     "execution_count": 6,
     "metadata": {},
     "output_type": "execute_result"
    },
    {
     "data": {
      "image/png": "[encoded data removed]",
      "text/plain": [
       "<Figure size 432x432 with 1 Axes>"
      ]
     },
     "metadata": {},
     "output_type": "display_data"
    }
   ],
   "source": [
    "train[\"Gender\"].value_counts().plot.pie(autopct = \"%.2f%%\",figsize = (6,6))"
   ]
  },
  {
   "cell_type": "code",
   "execution_count": 7,
   "metadata": {},
   "outputs": [
    {
     "data": {
      "text/plain": [
       "<AxesSubplot:xlabel='Education', ylabel='null_precent'>"
      ]
     },
     "execution_count": 7,
     "metadata": {},
     "output_type": "execute_result"
    },
    {
     "data": {
      "image/png": "[encoded data removed]",
      "text/plain": [
       "<Figure size 432x288 with 1 Axes>"
      ]
     },
     "metadata": {
      "needs_background": "light"
     },
     "output_type": "display_data"
    }
   ],
   "source": [
    "sns.barplot(x = \"Education\",y = \"null_precent\",hue = \"Gender\",data = train)"
   ]
  },
  {
   "cell_type": "code",
   "execution_count": 9,
   "metadata": {},
   "outputs": [
    {
     "data": {
      "text/plain": [
       "<AxesSubplot:xlabel='Education', ylabel='english_precent'>"
      ]
     },
     "execution_count": 9,
     "metadata": {},
     "output_type": "execute_result"
    },
    {
     "data": {
      "image/png": "[encoded data removed]",
      "text/plain": [
       "<Figure size 432x288 with 1 Axes>"
      ]
     },
     "metadata": {
      "needs_background": "light"
     },
     "output_type": "display_data"
    }
   ],
   "source": [
    "sns.barplot(x = \"Education\",y = \"english_precent\",hue = \"Gender\",data = train)"
   ]
  },
  {
   "cell_type": "code",
   "execution_count": 11,
   "metadata": {},
   "outputs": [
    {
     "data": {
      "text/plain": [
       "<AxesSubplot:xlabel='Education', ylabel='content_num'>"
      ]
     },
     "execution_count": 11,
     "metadata": {},
     "output_type": "execute_result"
    },
    {
     "data": {
      "image/png": "[encoded data removed]",
      "text/plain": [
       "<Figure size 432x288 with 1 Axes>"
      ]
     },
     "metadata": {
      "needs_background": "light"
     },
     "output_type": "display_data"
    }
   ],
   "source": [
    "sns.barplot(x = \"Education\",y = \"content_num\",hue = \"Gender\",data = train)"
   ]
  },
  {
   "cell_type": "code",
   "execution_count": 12,
   "metadata": {},
   "outputs": [
    {
     "data": {
      "text/plain": [
       "<AxesSubplot:xlabel='Education', ylabel='max_len'>"
      ]
     },
     "execution_count": 12,
     "metadata": {},
     "output_type": "execute_result"
    },
    {
     "data": {
      "image/png": "[encoded data removed]",
      "text/plain": [
       "<Figure size 432x288 with 1 Axes>"
      ]
     },
     "metadata": {
      "needs_background": "light"
     },
     "output_type": "display_data"
    }
   ],
   "source": [
    "sns.barplot(x = \"Education\",y = \"max_len\",hue = \"Gender\",data = train)"
   ]
  },
  {
   "cell_type": "code",
   "execution_count": 13,
   "metadata": {},
   "outputs": [
    {
     "data": {
      "text/plain": [
       "<AxesSubplot:xlabel='Education', ylabel='content_lens'>"
      ]
     },
     "execution_count": 13,
     "metadata": {},
     "output_type": "execute_result"
    },
    {
     "data": {
      "image/png": "[encoded data removed]",
      "text/plain": [
       "<Figure size 432x288 with 1 Axes>"
      ]
     },
     "metadata": {
      "needs_background": "light"
     },
     "output_type": "display_data"
    }
   ],
   "source": [
    "sns.barplot(x = \"Education\",y = \"content_lens\",hue = \"Gender\",data = train)"
   ]
  },
  {
   "cell_type": "markdown",
   "metadata": {},
   "source": [
    "对于数据的初步统计发现：对原始搜索内容进行进一步的梳理后发现，受教育状况以及性别的差异对于搜索内容和空字符串关系相对较为密切，此次先按照原始数据进行数据建模，在之后进行多个模型训练以及调参过程中进行完善和修改"
   ]
  },
  {
   "cell_type": "markdown",
   "metadata": {},
   "source": [
    "# 数据预处理与特征提取"
   ]
  },
  {
   "cell_type": "markdown",
   "metadata": {},
   "source": [
    "按照原有数据进行切分，对数据集选择了大概两万分数据进行训练和测试。"
   ]
  },
  {
   "cell_type": "code",
   "execution_count": null,
   "metadata": {},
   "outputs": [],
   "source": [
    "trainname = pd.read_csv(\"./data/train.csv\", sep=\"###__###\",header = None,encoding = \"utf-8\")\n",
    "trainname.columns = ['ID', 'Age', 'Gender', 'Education', 'Query_List']\n",
    "trainname = trainname.dropna()"
   ]
  },
  {
   "cell_type": "code",
   "execution_count": 170,
   "metadata": {},
   "outputs": [],
   "source": [
    "#将数据进行标签分类，按照年龄、性别、受教育状况以及询问内容文本\n",
    "train.Age.to_csv(\"./data/train_age.csv\",index = False)\n",
    "train.Gender.to_csv(\"./data/train_gender.csv\",index = False)\n",
    "train.Education.to_csv(\"./data/train_education.csv\",index = False)\n",
    "train.Query_List.to_csv(\"./data/train_querylist.csv\",index = False)"
   ]
  },
  {
   "cell_type": "markdown",
   "metadata": {},
   "source": [
    "# 对数据进行分词"
   ]
  },
  {
   "cell_type": "markdown",
   "metadata": {},
   "source": [
    "对训练数据中的搜索内容进行基本处理，数据分词。"
   ]
  },
  {
   "cell_type": "code",
   "execution_count": 3,
   "metadata": {},
   "outputs": [],
   "source": [
    "trainname = pd.read_csv(\"./data/train.csv\", sep=\"###__###\",header = None,encoding = \"utf-8\")\n",
    "trainname.columns = ['ID', 'Age', 'Gender', 'Education', 'Query_List']\n",
    "trainname = trainname.dropna()\n",
    "content_lines = trainname.Query_List.values.tolist()[:20000]\n",
    "\n",
    "stopwords=pd.read_csv(\"./data/stopwords.txt\",index_col=False,quoting=3,sep=\"\\t\",names=['stopword'], encoding='utf-8')\n",
    "stopwords=stopwords['stopword'].values"
   ]
  },
  {
   "cell_type": "code",
   "execution_count": 4,
   "metadata": {},
   "outputs": [
    {
     "name": "stderr",
     "output_type": "stream",
     "text": [
      "Building prefix dict from the default dictionary ...\n",
      "Loading model from cache C:\\Users\\小马哥\\AppData\\Local\\Temp\\jieba.cache\n",
      "Loading model cost 0.656 seconds.\n",
      "Prefix dict has been built successfully.\n"
     ]
    }
   ],
   "source": [
    "import pandas as pd\n",
    "import jieba.analyse\n",
    "import time\n",
    "import jieba\n",
    "import jieba.posseg\n",
    "import os,sys\n",
    "\n",
    "writepath = \"./data/querylist.csv\"\n",
    "csvfile = open(writepath,\"w\")\n",
    "sentences = []\n",
    "for line in content_lines:\n",
    "    try:\n",
    "        segs=jieba.lcut(line)\n",
    "        segs = list(filter(lambda x:len(x)>1, segs)) #没有解析出来进行滤掉\n",
    "        segs = list(filter(lambda x:x not in stopwords, segs)) #把停用词过滤掉\n",
    "        sentences.append((\" \".join(segs)))\n",
    "        csvfile.write(\" \".join(segs)+\"\\n\")\n",
    "       \n",
    "    except Exception as e:\n",
    "        print(line)\n",
    "        continue\n",
    "\n",
    "csvfile.close()\n"
   ]
  },
  {
   "cell_type": "code",
   "execution_count": 121,
   "metadata": {},
   "outputs": [
    {
     "data": {
      "text/plain": [
       "['柔和 双沟 女生 中财网 首页 财经 http pan baidu 1plpjtn9 周公 解梦 大全 查询 2345 曹云金 再讽 郭德纲 总裁 大人 行行好 中财网 第一 财经 传媒 教师节 全文 砸毁 墓碑 黄岩岛 最新 海图 缘来 迟落 甜心 不好惹 梁朝伟 替身 同框 笑傲江湖 电视剧 任贤齐 小起 名字 女孩 名字 海运 行李 堪培拉 诱爱 司少 天价 宝贝 遥控 魔棒 徽信 表情 动态 搞笑 图片 教师节 征文 安微 联通 网上 营业厅 甜宠 百分百 校草 萌萌 未婚妻 豪门 重生 之暖爱 成婚 nikehypershift kd5 好看 韭菜 炒鸡蛋 陈赫 王者 荣耀 虎牙 楚河 三国演义 小说 txt 下载 威县 欧派 好吃 黄岩岛 最新消息 中秋节 诗句 大全 祝福 教师节 征文 菜谱 柔和 双沟 七位数 开奖 以色列 停车场 坍塌 天龙 家庭 农场 7.22 星座 新旧 圣经 合本 下载 wifi 万能钥匙 威灵仙 图片 临泉 长官 天龙 家庭 农场 早安 总统 大人 百合 莲藕 做法 花街 无锡 蚬壳 胃散 触手 忆寒 中秋节 诗句 孟州 电信 电子 发票 鸡丝 做法 临泉 长官 镇桥口 李小刚 农场 朋仇 全民 葱花 蒜苔 炒肉 冰川 图片 kd5 若风 好奇 纸尿裤 清蒸鱼 189.8 平方 重庆 餐馆 发生爆炸 手机 失主 抢劫 https yunpan cn ocsqfgtfya2ewj 家常 做法 三国演义 小说 百度 总裁 掠爱 小舅 太坏 https yunpan cn cmh8tmeyraiww 周公 解梦 坦克 冰川 凉拌 藕片 做法 投票 鸡丝 好吃 时光 掩埋 秘密 小说 下载 中国电信 电子 发票 张续 月亮 诗句 酵母 馒头 方法 赵丽颖 碧瑶 触手 兵长 图集 下载 腾讯 新闻 街头 混战 武警 厦门航空 蚬壳 胃散 茄子 做法 身份 类别 方特 生活 强迫症 表现 白袍 法师 图片 朋仇 广场 小宇 热游 馒头 方法 狡滑 黄石 大冶 东岳 派出所 服务 电话 三国演义 小说 下载 txt http zxjhjc9088.1688 松柏 道馆 10.1 高速 免费 几天 三国演义 小说 txt 柔和 双沟 业务 待遇 酵母 馒头 方法 初中 家教 一对一 辅导 口子 中秋节 祝福 诗句 侠岚 王国 价格表 1001 王国 价格表 批注 殿下 专属 小丫头 无锡 爆炸 茄子 做法 http pan baidu 1cor7gy 大件 行李 邮寄 烟火 陈翔 没想到 真没想到 作文 安徽 滁州 石坝 虎牙 小宇 驾校 培训 长途 骨质 关节炎 膝盖 内侧 怎么回事 虎皮 尖椒 做法 大全 陈翔 女朋友 吻照 世界 23.04 平方根 神将 世界 表情 寻找 成龙 柔和 双沟 三国演义 txt 百度 澳洲 邮寄 行李 费用 触手 1991 星座 校草 成长 暮光 女友 求婚 钢弩 价格 图片 乐乐 课堂 宠妻 成瘾 老婆 魔手 tv 梅河口 济南 火车票 临泉 长官 君子兰 南洋 十大 邪术 电影 炸油条 做法 配方 根号 等于 笑笑 昨日 帝王 吃惊 词语 教师节 征文 朝阳区 庄户 邮编 千百 1991 农历 星座 圣经 合本 免费 下载 水煮 花生米 做法 http pan baidu 1jhbv9pg 十字 徽信 表情 含义 天才 小熊猫 微博长 宠冠六宫 帝王 娇蛮 皇妃 广告 软件 安卓版 萌妻 娇俏帝 总裁 霸爱 小小 新娘 逃婚 花生 好吃 中国 证券网 柔和 双沟 销售 中秋节 诗句 图片 怪病 洗洁精 等于 服装 批发 怀孕 肚子 隐隐作痛 怎么回事 百度 蒜苔 家常 做法 水煮 花生米 天才 小熊猫 作品 袁姗姗 临泉 长官 镇桥口 呼作 白玉 一句 微信 表情 搞笑 图片 滴滴 快车 司机 教师节 手抄报 简单 好看 大冶 公安局 派出所 柔和 双沟 业务 待遇 哺乳期 月经 临泉 长官 水上 乐园 忐忑不安 临泉 长官 李小刚 家庭 农场 电信 电子 发票 报销 岳不群 http pan baidu 1plefcb5 临泉 长官 镇桥口 天龙 农场 凉拌 水煮 花生米 做法 威灵仙 功效 作用 http pan baidu 1o7hnpmy 鸽子 做法 战神 伪高冷 天降 医妃 回家 白颠 初期 症状 天才 小熊猫 首席 萌妻 咬一口 弩弓 商城 三国演义 小说 临泉 长官 镇桥口 植物 养殖 基地 邮储 银行 手机 银行 客户端 下载 花米 好吃 英语 在线翻译 糖醋 鲤鱼 搞笑 微信 表情图片 带字 新婚 似火 鲜妻 胎生 一对 三国演义 教师节 手抄报 http m37189 mustfollow vx mvote net wx 王国 价格表 鱼汤 做法 http www cswanda weixin game1 临泉 长官 镇桥口 私人 农场 临泉 长官 镇桥 口镇 杨营 临泉 长官 天龙 家庭 农场 李子树 根部 脓包 怎么回事 单手 高速 转牌 医学院 路上 徽信 早上好 动态 表情 宝宝 小名 大全 洋气 寂寞 男女 聊天记录 截图 https yunpan cn oc6nhvmrg5j2ur 神将 世界 美丽 秋天 作文 300 http pan baidu 1nu9uizn 钢弩 冰川 世纪 电影 全文 触手 蓝烟 做法 金罐 加多宝 澳洲 托运 行李 15346171303 189 cn 蒜苔 家常 做法 时光 掩埋 秘密 根号 13.6 等于 方特 东方 神画 粉红 花朵 图片 qq 申请 千亿 盛宠 大叔 慢点 http linjiada1989.1688 东方 财富网 首页 http pan baidu 1hraemhe 动力 价格 手机 遥控 魔棒 jzg http pan baidu 1o8cxpmm 行李 托运 澳洲 蚬壳 胃散 副作用 红烧 鲤鱼 触手 tv 中国 财经 信息网 中财网 立方根 800 美食 菜谱 笑傲江湖 电视剧 柔和 双沟 笑傲江湖 品种 名字 图片 滴滴 司机 奇怪 鸡蛋 灌饼 天龙 农家乐 拉拉 歌词 陈翔 女朋友 牢解场 生活 微微一笑 倾城 豪门 少奶奶 谢少 心尖 宠妻']"
      ]
     },
     "execution_count": 121,
     "metadata": {},
     "output_type": "execute_result"
    }
   ],
   "source": [
    "sentences[:1]"
   ]
  },
  {
   "cell_type": "code",
   "execution_count": 5,
   "metadata": {},
   "outputs": [],
   "source": [
    "import random\n",
    "random.shuffle(sentences)"
   ]
  },
  {
   "cell_type": "markdown",
   "metadata": {},
   "source": [
    "分完词之后，对词进行向量化处理，首先采用word2vec词向量模型"
   ]
  },
  {
   "cell_type": "code",
   "execution_count": 6,
   "metadata": {},
   "outputs": [],
   "source": [
    "from  gensim.models import word2vec\n",
    "#将列表数据转化为列表嵌套的格式\n",
    "train_path = \"./data/querylist.csv\"\n",
    "with open(train_path,\"r\") as f:\n",
    "    my_list = []\n",
    "    lines = f.readlines()\n",
    "    for line in lines:\n",
    "        cur_list = []\n",
    "        line = line.strip()\n",
    "        data = line.split(\" \")\n",
    "        for i in data:\n",
    "            cur_list.append(i)\n",
    "        my_list.append(cur_list)\n",
    "    model = word2vec.Word2Vec(my_list,vector_size = 300, window=5, min_count=5, workers=4)\n",
    "    savepath = \"word2vec_list\" +\"300\" +\".model\"\n",
    "    \n",
    "    model.save(savepath)"
   ]
  },
  {
   "cell_type": "code",
   "execution_count": 7,
   "metadata": {},
   "outputs": [
    {
     "data": {
      "text/plain": [
       "[('黑帮', 0.7019625902175903),\n",
       " ('教父', 0.6836597323417664),\n",
       " ('大佬', 0.6746853590011597),\n",
       " ('方休', 0.6652513742446899),\n",
       " ('干爹', 0.6645916700363159),\n",
       " ('末代', 0.6522518992424011),\n",
       " ('黑道', 0.6510862112045288),\n",
       " ('演绎', 0.648783266544342),\n",
       " ('花子', 0.6444159746170044),\n",
       " ('亿万富翁', 0.6430135369300842)]"
      ]
     },
     "execution_count": 7,
     "metadata": {},
     "output_type": "execute_result"
    }
   ],
   "source": [
    "model.wv.most_similar(\"大哥\")"
   ]
  },
  {
   "cell_type": "markdown",
   "metadata": {},
   "source": [
    "通过加载训练好的Word2vec模型数据，求解用户搜索的平均向量"
   ]
  },
  {
   "cell_type": "code",
   "execution_count": 8,
   "metadata": {},
   "outputs": [],
   "source": [
    "import numpy as np\n",
    "import gensim.models\n",
    "file_name = \"./data/querylist.csv\"\n",
    "cur_model = gensim.models.Word2Vec.load(\"word2vec_list300.model\")\n",
    "with open(file_name,\"r\") as f:\n",
    "    cur_index = 0\n",
    "    lines = f.readlines()\n",
    "    doc_cev = np.zeros((len(lines),300))#用户的总的维度，因为每一行为一个用户，一个用户一个维度\n",
    "    for line in lines:\n",
    "        word_vec = np.zeros ((1,300))#对每个用户提取的平均维度为300\n",
    "        words= line.strip().split(\" \")\n",
    "        word_num = 0\n",
    "        for word in words:\n",
    "            if word in cur_model.wv:\n",
    "                word_num +=1\n",
    "                word_vec +=np.array([cur_model.wv[word]])\n",
    "        doc_cev[cur_index] = word_vec/float(word_num)\n",
    "        cur_index +=1\n",
    "            \n",
    "        \n",
    "        \n",
    "    "
   ]
  },
  {
   "cell_type": "code",
   "execution_count": 9,
   "metadata": {},
   "outputs": [
    {
     "data": {
      "text/plain": [
       "(20000, 300)"
      ]
     },
     "execution_count": 9,
     "metadata": {},
     "output_type": "execute_result"
    }
   ],
   "source": [
    "doc_cev.shape"
   ]
  },
  {
   "cell_type": "code",
   "execution_count": 10,
   "metadata": {},
   "outputs": [
    {
     "data": {
      "text/plain": [
       "array([ 0.14908757, -0.17180709,  0.01584814,  0.14293566,  0.05564202,\n",
       "       -0.09617478, -0.20904111,  0.61533658, -0.07713081,  0.18978622,\n",
       "       -0.12672779, -0.11120831, -0.04906999,  0.18505523, -0.14182814,\n",
       "       -0.27023353, -0.08665189, -0.10562177,  0.12030746,  0.01838882,\n",
       "        0.02673236, -0.13369347,  0.19123078, -0.00152419,  0.02168346,\n",
       "       -0.12814043, -0.38060583,  0.10476884, -0.03055077,  0.1571332 ,\n",
       "       -0.07228731, -0.18039409,  0.06419536, -0.00159628,  0.05187549,\n",
       "        0.34507688, -0.06903019, -0.33752514,  0.1342286 , -0.26874844,\n",
       "       -0.26795989,  0.08054863,  0.18430582, -0.06785425,  0.01989662,\n",
       "       -0.07815432,  0.08812722, -0.16024117, -0.14763951,  0.28434724,\n",
       "        0.27681669, -0.06861033, -0.05785152,  0.07844341, -0.28253815,\n",
       "        0.14630954,  0.24705126,  0.04363953,  0.24004818,  0.07861766,\n",
       "       -0.2606137 , -0.02730169,  0.34842157, -0.07974705,  0.03730889,\n",
       "        0.24122244,  0.10787229,  0.19515402,  0.02499774, -0.19246886,\n",
       "       -0.10985447,  0.06151395,  0.00212969, -0.13920873, -0.0980942 ,\n",
       "       -0.1916376 , -0.2192355 ,  0.14713866, -0.02805023,  0.22820442,\n",
       "       -0.21044366, -0.08900391, -0.14892194,  0.35022257,  0.16591571,\n",
       "        0.09931455, -0.1393107 , -0.01074085, -0.014754  ,  0.0588784 ,\n",
       "       -0.0391731 , -0.23969637,  0.37926656, -0.14519743,  0.29881527,\n",
       "        0.20368704,  0.09957925, -0.13396293, -0.27580723,  0.1488387 ,\n",
       "        0.07996502,  0.10957509,  0.1608629 ,  0.05299272, -0.22125128,\n",
       "        0.17533893,  0.10951973, -0.21041219, -0.11753506, -0.02180109,\n",
       "       -0.17505436, -0.1876334 ,  0.18851738,  0.36215696,  0.05753887,\n",
       "        0.02017207,  0.33022697, -0.00675197,  0.25459878, -0.29220575,\n",
       "        0.19126448,  0.26602243,  0.26029135,  0.00852646, -0.0570928 ,\n",
       "       -0.04971236,  0.1845624 , -0.07030114,  0.22816226,  0.10204149,\n",
       "        0.16823764,  0.18422565,  0.37189087, -0.35954429, -0.00425844,\n",
       "        0.31866237, -0.08727298,  0.00385155, -0.01410185, -0.32235344,\n",
       "       -0.00297365, -0.2698527 , -0.11344392,  0.09488881,  0.11182282,\n",
       "        0.10846835, -0.31928361, -0.14152854,  0.17735617, -0.21378755,\n",
       "       -0.15541791, -0.33157039, -0.27041326, -0.21529494, -0.04173541,\n",
       "       -0.0538568 ,  0.09170063, -0.0618378 , -0.08053563,  0.36261853,\n",
       "        0.14363131,  0.11744868, -0.01535411,  0.45508062, -0.18194469,\n",
       "        0.01854552,  0.03027277, -0.02749347,  0.10182887,  0.25906145,\n",
       "       -0.01085948, -0.15105579,  0.29104744,  0.01457392, -0.06287962,\n",
       "       -0.00876437,  0.16467043, -0.07418942, -0.24291404, -0.05279782,\n",
       "        0.20755797,  0.1103601 , -0.27485158, -0.17137256, -0.13315909,\n",
       "       -0.21021532,  0.07842678,  0.00381169,  0.07787037, -0.28007813,\n",
       "       -0.05975865, -0.07965239, -0.1320143 ,  0.09024349,  0.09536191,\n",
       "       -0.37310093,  0.09643723,  0.06778785,  0.2164385 , -0.02010244,\n",
       "       -0.22735281, -0.03356307,  0.04468754,  0.01181611,  0.13558927,\n",
       "       -0.23905918,  0.30198856,  0.18116311,  0.05178361, -0.30247045,\n",
       "        0.19484416, -0.20617978, -0.13746616,  0.07486022,  0.04463218,\n",
       "       -0.16664478, -0.2408133 , -0.15366316, -0.0802138 ,  0.0539845 ,\n",
       "       -0.02278888,  0.38030037, -0.05833946, -0.27197283, -0.3333439 ,\n",
       "        0.02365244, -0.01879726, -0.06208259, -0.03117343, -0.1072997 ,\n",
       "        0.16246447, -0.26099869, -0.21107956,  0.17818068, -0.18841647,\n",
       "        0.11866965,  0.17648876,  0.28266096,  0.27751525, -0.13910054,\n",
       "        0.33725012, -0.05158259, -0.26709807, -0.15324273,  0.20945086,\n",
       "       -0.06306398, -0.25566574,  0.08252162,  0.01477596,  0.04007843,\n",
       "        0.24524707, -0.02300143,  0.1154472 , -0.03185529, -0.09723632,\n",
       "       -0.1121219 ,  0.30972146, -0.22435293, -0.24163139, -0.22387973,\n",
       "        0.01230578,  0.05174462, -0.00939072, -0.3703727 , -0.13308503,\n",
       "       -0.01902987,  0.1195922 ,  0.05174878, -0.22819096,  0.09548958,\n",
       "        0.08553794, -0.08876684, -0.03462889, -0.21136053,  0.34361848,\n",
       "       -0.17442749,  0.33923062,  0.01650475, -0.07930823, -0.14555675,\n",
       "        0.02294271, -0.10395913, -0.00521371,  0.10283418,  0.24012411,\n",
       "        0.16641499, -0.18673106,  0.09590206, -0.08007838,  0.01311773,\n",
       "        0.17670374,  0.22888083,  0.29501358,  0.16556494,  0.20450324,\n",
       "        0.20423401, -0.08822665, -0.03783394,  0.07036517,  0.02288204])"
      ]
     },
     "execution_count": 10,
     "metadata": {},
     "output_type": "execute_result"
    }
   ],
   "source": [
    "doc_cev[1]"
   ]
  },
  {
   "cell_type": "code",
   "execution_count": 11,
   "metadata": {},
   "outputs": [
    {
     "data": {
      "text/plain": [
       "(20000,)"
      ]
     },
     "execution_count": 11,
     "metadata": {},
     "output_type": "execute_result"
    }
   ],
   "source": [
    "genderlabel = np.loadtxt(open(\"./data/train_gender.csv\")).astype(int)\n",
    "genderlabel = genderlabel[:20000]\n",
    "genderlabel.shape"
   ]
  },
  {
   "cell_type": "code",
   "execution_count": 12,
   "metadata": {},
   "outputs": [
    {
     "data": {
      "text/plain": [
       "(20000,)"
      ]
     },
     "execution_count": 12,
     "metadata": {},
     "output_type": "execute_result"
    }
   ],
   "source": [
    "agelabel = np.loadtxt(open(\"./data/train_age.csv\")).astype(int)\n",
    "agelabel = agelabel[:20000]\n",
    "agelabel.shape"
   ]
  },
  {
   "cell_type": "code",
   "execution_count": 13,
   "metadata": {},
   "outputs": [
    {
     "data": {
      "text/plain": [
       "(20000,)"
      ]
     },
     "execution_count": 13,
     "metadata": {},
     "output_type": "execute_result"
    }
   ],
   "source": [
    "edulabel = np.loadtxt(open(\"./data/train_education.csv\")).astype(int)\n",
    "edulabel = edulabel[:20000]\n",
    "edulabel.shape"
   ]
  },
  {
   "cell_type": "code",
   "execution_count": 14,
   "metadata": {},
   "outputs": [
    {
     "name": "stdout",
     "output_type": "stream",
     "text": [
      "(19556, 300) (19556,)\n",
      "(19677, 300) (19677,)\n",
      "(18105, 300) (18105,)\n"
     ]
    }
   ],
   "source": [
    "def removezero(x,y):\n",
    "    nozero = np.nonzero(y)\n",
    "    y = y[nozero]\n",
    "    x = np.array(x)\n",
    "    x = x[nozero]\n",
    "    return x,y\n",
    "gender_train,genderlabel = removezero(doc_cev,genderlabel)\n",
    "age_train,agelabel = removezero(doc_cev,agelabel)\n",
    "edu_train,edulabel = removezero(doc_cev,edulabel)\n",
    "print(gender_train.shape,genderlabel.shape)\n",
    "print(age_train.shape,agelabel.shape)\n",
    "print(edu_train.shape,edulabel.shape)"
   ]
  },
  {
   "cell_type": "markdown",
   "metadata": {},
   "source": [
    "绘制函数，以性别为例，绘制混淆矩阵"
   ]
  },
  {
   "cell_type": "code",
   "execution_count": 41,
   "metadata": {},
   "outputs": [],
   "source": [
    "import itertools\n",
    "def plot_confusion_matrix(cm, classes,\n",
    "                         title = \"confuison matrix\",\n",
    "                         cmap = plt.cm.Blues):\n",
    "    plt.imshow(cm,interpolation = \"nearest\",cmap = cmap)\n",
    "    plt.title(title)\n",
    "    plt.colorbar()\n",
    "    tick_marks = np.arange(len(classes))\n",
    "    plt.xticks(tick_marks,classes,rotation = 0)\n",
    "    plt.yticks(tick_marks,classes)\n",
    "    \n",
    "    thresh = cm.max()/2.\n",
    "    for i ,j in itertools.product(range(cm.shape[0]),range(cm.shape[1])):\n",
    "        plt.text(j,i,cm[i, j],\n",
    "                 horizontalalignment = \"center\",\n",
    "                 color = \"white\" if cm[i, j]> thresh else \"black\")\n",
    "    plt.tight_layout()\n",
    "    plt.ylabel(\"True label\")\n",
    "    plt.xlabel(\"predict label\")                              "
   ]
  },
  {
   "cell_type": "markdown",
   "metadata": {},
   "source": [
    "构造测试集，先略过，因为没有标签集进行测试，"
   ]
  },
  {
   "cell_type": "code",
   "execution_count": null,
   "metadata": {},
   "outputs": [],
   "source": [
    "import numpy as np\n",
    "import gensim.models\n",
    "file_name = \"./data/test.csv\"\n",
    "cur_model = gensim.models.Word2Vec.load(\"word2vec_list300.model\")\n",
    "with open(file_name,\"r\") as f:\n",
    "    cur_index = 0\n",
    "    lines = f.readlines()\n",
    "    doc_cev = np.zeros((len(lines),300))#用户的总的维度，因为每一行为一个用户，一个用户一个维度\n",
    "    for line in lines:\n",
    "        word_vec = np.zeros ((1,300))#对每个用户提取的平均维度为300\n",
    "        words= line.strip().split(\" \")\n",
    "        word_num = 0\n",
    "        for word in words:\n",
    "            if word in cur_model.wv:\n",
    "                word_num +=1\n",
    "                word_vec +=np.array([cur_model.wv[word]])\n",
    "        doc_cev[cur_index] = word_vec/float(word_num)\n",
    "        cur_index +=1\n",
    "            "
   ]
  },
  {
   "cell_type": "code",
   "execution_count": 211,
   "metadata": {},
   "outputs": [
    {
     "name": "stdout",
     "output_type": "stream",
     "text": [
      "0.8093047034764826\n",
      "Recall metric in the test dataset:  0.7537406483790524\n",
      "accuracy metric in the test dataset:  0.8093047034764826\n"
     ]
    },
    {
     "data": {
      "image/png": "[encoded data removed]",
      "text/plain": [
       "<Figure size 432x288 with 2 Axes>"
      ]
     },
     "metadata": {
      "needs_background": "light"
     },
     "output_type": "display_data"
    }
   ],
   "source": [
    "from sklearn.linear_model import LogisticRegression\n",
    "from sklearn.metrics import confusion_matrix\n",
    "from sklearn.model_selection import train_test_split\n",
    "\n",
    "X_train, X_test, y_train, y_test = train_test_split(gender_train,genderlabel,test_size = 0.2,random_state = 2022)\n",
    "\n",
    "LR_model = LogisticRegression()\n",
    "\n",
    "LR_model.fit(X_train,y_train)\n",
    "y_pred = LR_model.predict(X_test)\n",
    "print(LR_model.score(X_test,y_test))\n",
    "\n",
    "cnf_matrix = confusion_matrix(y_test,y_pred)\n",
    "\n",
    "print(\"Recall metric in the test dataset: \",cnf_matrix[1,1]/(cnf_matrix[1,0]+cnf_matrix[1,1]))\n",
    "print(\"accuracy metric in the test dataset: \",(cnf_matrix[1,1]+cnf_matrix[0,0])/(cnf_matrix[0,0]+cnf_matrix[0,1]+cnf_matrix[1,0]+cnf_matrix[1,1]))\n",
    "\n",
    "calss_names = (0,1)\n",
    "plt.figure()\n",
    "\n",
    "plot_confusion_matrix(cnf_matrix,\n",
    "                      classes =calss_names,\n",
    "                      title = \"gender_confusion matrix\")\n",
    "plt.show()"
   ]
  },
  {
   "cell_type": "code",
   "execution_count": 210,
   "metadata": {},
   "outputs": [
    {
     "name": "stdout",
     "output_type": "stream",
     "text": [
      "0.7955010224948875\n",
      "Recall metric in the test dataset:  0.728380024360536\n",
      "accuracy metric in the test dataset:  0.7955010224948875\n"
     ]
    },
    {
     "data": {
      "image/png": "[encoded data removed]",
      "text/plain": [
       "<Figure size 432x288 with 2 Axes>"
      ]
     },
     "metadata": {
      "needs_background": "light"
     },
     "output_type": "display_data"
    }
   ],
   "source": [
    "from sklearn.ensemble import RandomForestClassifier\n",
    "from sklearn.metrics import confusion_matrix\n",
    "from sklearn.model_selection import train_test_split\n",
    "\n",
    "X_train, X_test, y_train, y_test = train_test_split(gender_train,genderlabel,test_size = 0.2,random_state = 1)\n",
    "\n",
    "RF_model = RandomForestClassifier(n_estimators=200,min_samples_split =3,max_depth = 8)\n",
    "\n",
    "RF_model.fit(X_train,y_train)\n",
    "y_pred = RF_model.predict(X_test)\n",
    "print(RF_model.score(X_test,y_test))\n",
    "\n",
    "cnf_matrix = confusion_matrix(y_test,y_pred)\n",
    "\n",
    "print(\"Recall metric in the test dataset: \",cnf_matrix[1,1]/(cnf_matrix[1,0]+cnf_matrix[1,1]))\n",
    "print(\"accuracy metric in the test dataset: \",(cnf_matrix[1,1]+cnf_matrix[0,0])/(cnf_matrix[0,0]+cnf_matrix[0,1]+cnf_matrix[1,0]+cnf_matrix[1,1]))\n",
    "\n",
    "calss_names = (0,1)\n",
    "plt.figure()\n",
    "\n",
    "plot_confusion_matrix(cnf_matrix,\n",
    "                      classes =calss_names,\n",
    "                      title = \"gender_confusion matrix\")\n",
    "plt.show()"
   ]
  },
  {
   "cell_type": "markdown",
   "metadata": {},
   "source": [
    "在此基础上，对模型采取了堆叠的形式，以提高模型的预测精度"
   ]
  },
  {
   "cell_type": "code",
   "execution_count": 212,
   "metadata": {},
   "outputs": [],
   "source": [
    "from sklearn.svm import SVC\n",
    "from sklearn.naive_bayes import MultinomialNB\n",
    "\n",
    "clf1 = RandomForestClassifier(n_estimators =100,min_samples_split = 5,max_depth = 10)\n",
    "clf2 = SVC()\n",
    "clf3 = LogisticRegression()\n",
    "basemodes = [\n",
    "            [\"rf\",clf1],\n",
    "            [\"SVC\",clf2],\n",
    "            [\"lr\",clf3]\n",
    "            ]"
   ]
  },
  {
   "cell_type": "code",
   "execution_count": 236,
   "metadata": {},
   "outputs": [],
   "source": [
    "from sklearn.model_selection import StratifiedKFold\n",
    "\n",
    "kf = KFold(y_train.shape[0], n_splits=3, random_state=1, shuffle=False)"
   ]
  },
  {
   "cell_type": "code",
   "execution_count": 239,
   "metadata": {},
   "outputs": [
    {
     "name": "stdout",
     "output_type": "stream",
     "text": [
      "0.8100715746421268\n"
     ]
    }
   ],
   "source": [
    "from sklearn.model_selection import StratifiedKFold\n",
    "import param\n",
    "models = basemodes\n",
    "\n",
    "#X_train,X_test,y_train,y_test\n",
    "n = 5\n",
    "param.seed=1\n",
    "\n",
    "list1 =[]\n",
    "\n",
    "kf = KFold(n_splits=5, shuffle=False, random_state=1)\n",
    "\n",
    "S_train = np.zeros((X_train.shape[0],len(models)))\n",
    "S_test = np.zeros((X_test.shape[0],len(models)))\n",
    "\n",
    "for i,bm in enumerate(models):\n",
    "    clf = bm[1]\n",
    "                   #S_test[:,i] = clf.predict(X_test)\n",
    "    for  (train_idx,test_idx) in kf.split(y_train):\n",
    "        X_train_cv = X_train[train_idx]\n",
    "        y_train_cv = y_train[train_idx]\n",
    "        X_val = X_train[test_idx]\n",
    "        clf.fit(X_train_cv,y_train_cv)\n",
    "        y_val = clf.predict(X_val)[:]\n",
    "                   \n",
    "        S_train[test_idx,i] = y_val\n",
    "    S_test[:,i] = clf.predict(X_test)\n",
    "                  \n",
    "                   \n",
    "final_clf = RandomForestClassifier(n_estimators =100)\n",
    "final_clf.fit(S_train,y_train)\n",
    "                \n",
    "print(final_clf.score(S_test,y_test))\n",
    "                   \n",
    "                   "
   ]
  },
  {
   "cell_type": "code",
   "execution_count": null,
   "metadata": {},
   "outputs": [],
   "source": []
  }
 ],
 "metadata": {
  "kernelspec": {
   "display_name": "Python 3",
   "language": "python",
   "name": "python3"
  },
  "language_info": {
   "codemirror_mode": {
    "name": "ipython",
    "version": 3
   },
   "file_extension": ".py",
   "mimetype": "text/x-python",
   "name": "python",
   "nbconvert_exporter": "python",
   "pygments_lexer": "ipython3",
   "version": "3.8.5"
  }
 },
 "nbformat": 4,
 "nbformat_minor": 4
}
